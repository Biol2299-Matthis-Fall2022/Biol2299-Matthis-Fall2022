{
 "cells": [
  {
   "cell_type": "markdown",
   "source": [
    "# This is an iPython Jupyter Notebook to let us look at some of the data we collected in class on 2022-09-26\n"
   ],
   "metadata": {
    "collapsed": false,
    "pycharm": {
     "name": "#%% md\n"
    }
   }
  },
  {
   "cell_type": "markdown",
   "source": [
    "## Import the python packages we'll need"
   ],
   "metadata": {
    "collapsed": false,
    "pycharm": {
     "name": "#%% md\n"
    }
   }
  },
  {
   "cell_type": "code",
   "execution_count": null,
   "outputs": [],
   "source": [],
   "metadata": {
    "collapsed": false,
    "pycharm": {
     "name": "#%%\n"
    }
   }
  },
  {
   "cell_type": "code",
   "execution_count": 10,
   "outputs": [
    {
     "name": "stdout",
     "output_type": "stream",
     "text": [
      "Using matplotlib backend: <object object at 0x000001E59A963160>\n"
     ]
    }
   ],
   "source": [
    "import numpy as np\n",
    "import pandas as pd\n",
    "import matplotlib\n",
    "import matplotlib.pyplot as plt\n",
    "from pathlib import Path\n",
    "# matplotlib.use(\"qt5agg\")\n",
    "%matplotlib"
   ],
   "metadata": {
    "collapsed": false,
    "pycharm": {
     "name": "#%%\n"
    }
   }
  },
  {
   "cell_type": "markdown",
   "source": [
    "## Get the paths to the files and data we'll need"
   ],
   "metadata": {
    "collapsed": false,
    "pycharm": {
     "name": "#%% md\n"
    }
   }
  },
  {
   "cell_type": "code",
   "execution_count": 11,
   "outputs": [],
   "source": [
    "# folders and stuff\n",
    "freemocap_data_folder_path = Path(r\"C:\\Users\\jonma\\Dropbox\\Northeastern\\Courses\\Biol2299\\2022_09_Fall_Biol2299_Inquiries_NeuralControlOfRealWorldBehavior\\freemocap_bos_com_standing_data\\FreeMocap_Data\")\n",
    "session_id = \"sesh_2022-09-28_15_45_39\"\n",
    "session_folder_path = freemocap_data_folder_path / session_id\n",
    "data_arrays_path = session_folder_path/'DataArrays'\n"
   ],
   "metadata": {
    "collapsed": false,
    "pycharm": {
     "name": "#%%\n"
    }
   }
  },
  {
   "cell_type": "code",
   "execution_count": 12,
   "outputs": [],
   "source": [
    "#Specific file paths\n",
    "com_xyz_npy_path = data_arrays_path / \"totalBodyCOM_frame_XYZ.npy\"\n",
    "skeleton_body_dots_csv_path = data_arrays_path / \"mediapipe_body_3d_xyz.csv\"\n"
   ],
   "metadata": {
    "collapsed": false,
    "pycharm": {
     "name": "#%%\n"
    }
   }
  },
  {
   "cell_type": "code",
   "execution_count": 13,
   "outputs": [],
   "source": [
    "# load the data in\n",
    "\n",
    "com_xyz = np.load(com_xyz_npy_path)\n",
    "skeleton_dataframe = pd.read_csv(skeleton_body_dots_csv_path)"
   ],
   "metadata": {
    "collapsed": false,
    "pycharm": {
     "name": "#%%\n"
    }
   }
  },
  {
   "cell_type": "code",
   "execution_count": 14,
   "outputs": [
    {
     "name": "stdout",
     "output_type": "stream",
     "text": [
      "nose_x.shape: (6980,)\n"
     ]
    }
   ],
   "source": [
    "nose_x = skeleton_dataframe[\"nose_x\"]\n",
    "nose_y = skeleton_dataframe[\"nose_y\"]\n",
    "nose_z = skeleton_dataframe[\"nose_z\"]\n",
    "\n",
    "print(f\"nose_x.shape: {nose_x.shape}\")"
   ],
   "metadata": {
    "collapsed": false,
    "pycharm": {
     "name": "#%%\n"
    }
   }
  },
  {
   "cell_type": "code",
   "execution_count": 15,
   "outputs": [],
   "source": [
    "# simple plot of `com_xyz` time series\n",
    "\n",
    "fig1 = plt.Figure()\n",
    "# fig1.suptitle(\"Nose Timeseries\")\n",
    "# ax = fig1.add_subplot()\n",
    "plt.plot(nose_x)\n",
    "plt.plot(nose_y)\n",
    "plt.plot(nose_z)\n",
    "\n",
    "# ax.legend()\n",
    "# plt.plot(np.diff(nose_y))\n",
    "# plt.plot(np.diff(nose_z))\n",
    "plt.show()\n"
   ],
   "metadata": {
    "collapsed": false,
    "pycharm": {
     "name": "#%%\n"
    }
   }
  },
  {
   "cell_type": "code",
   "execution_count": 7,
   "outputs": [],
   "source": [
    "right_toe_x = skeleton_dataframe[\"right_foot_index_x\"]\n",
    "right_toe_y = skeleton_dataframe[\"right_foot_index_y\"]\n",
    "right_toe_z = skeleton_dataframe[\"right_foot_index_z\"]\n",
    "\n",
    "right_heel_x = skeleton_dataframe[\"right_heel_x\"]\n",
    "right_heel_y = skeleton_dataframe[\"right_heel_y\"]\n",
    "right_heel_z = skeleton_dataframe[\"right_heel_z\"]\n",
    "\n",
    "\n",
    "\n",
    "cx = com_xyz[np.arange(2500,3500),0]\n",
    "cy = com_xyz[np.arange(2500,3500),1]\n"
   ],
   "metadata": {
    "collapsed": false,
    "pycharm": {
     "name": "#%%\n"
    }
   }
  },
  {
   "cell_type": "code",
   "execution_count": 8,
   "outputs": [],
   "source": [
    "fig2 = plt.Figure()\n",
    "# ax = fig2.add_subplot()\n",
    "\n",
    "plt.plot(right_toe_x[2500:3500], right_toe_y[2500:3500], 'r')\n",
    "plt.plot(right_heel_x[2500:3500], right_heel_y[2500:3500], 'b')\n",
    "\n",
    "plt.plot(cx, cy, 'g')\n",
    "\n",
    "plt.show()"
   ],
   "metadata": {
    "collapsed": false,
    "pycharm": {
     "name": "#%%\n"
    }
   }
  }
 ],
 "metadata": {
  "kernelspec": {
   "display_name": "Python 3",
   "language": "python",
   "name": "python3"
  },
  "language_info": {
   "codemirror_mode": {
    "name": "ipython",
    "version": 2
   },
   "file_extension": ".py",
   "mimetype": "text/x-python",
   "name": "python",
   "nbconvert_exporter": "python",
   "pygments_lexer": "ipython2",
   "version": "2.7.6"
  }
 },
 "nbformat": 4,
 "nbformat_minor": 0
}