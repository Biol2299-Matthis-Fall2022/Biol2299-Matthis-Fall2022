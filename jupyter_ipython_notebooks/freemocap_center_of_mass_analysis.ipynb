{
 "cells": [
  {
   "cell_type": "markdown",
   "source": [
    "# This is an iPython Jupyter Notebook to let us look at some of the data we collected in class on 2022-09-26\n"
   ],
   "metadata": {
    "collapsed": false,
    "pycharm": {
     "name": "#%% md\n"
    }
   }
  },
  {
   "cell_type": "markdown",
   "source": [
    "## Import the python packages we'll need"
   ],
   "metadata": {
    "collapsed": false,
    "pycharm": {
     "name": "#%% md\n"
    }
   }
  },
  {
   "cell_type": "code",
   "execution_count": 1,
   "metadata": {
    "collapsed": true,
    "pycharm": {
     "name": "#%%\n"
    }
   },
   "outputs": [],
   "source": [
    "import numpy as np\n",
    "import pandas as pd\n",
    "import matplotlib\n",
    "import matplotlib.pyplot as plt\n",
    "from pathlib import Path\n",
    "matplotlib.use(\"qt5agg\")"
   ]
  },
  {
   "cell_type": "markdown",
   "source": [
    "## Get the paths to the files and data we'll need"
   ],
   "metadata": {
    "collapsed": false,
    "pycharm": {
     "name": "#%% md\n"
    }
   }
  },
  {
   "cell_type": "code",
   "execution_count": null,
   "outputs": [],
   "source": [
    "# folders and stuff\n",
    "freemocap_data_folder_path = Path(r\"C:\\Users\\jonma\\Dropbox\\Northeastern\\Courses\\Biol2299\\2022_09_Fall_Biol2299_Inquiries_NeuralControlOfRealWorldBehavior\\freemocap_bos_com_standing_data\\FreeMocap_Data\")\n",
    "session_folder_path = freemocap_data_folder_path / \"sesh_2022-09-28_15_52_24_bbbbbb\"\n",
    "data_arrays_path = session_folder_path/'DataArrays'\n"
   ],
   "metadata": {
    "collapsed": false,
    "pycharm": {
     "name": "#%%\n"
    }
   }
  },
  {
   "cell_type": "code",
   "execution_count": null,
   "outputs": [],
   "source": [
    "#Specific file paths\n",
    "com_xyz_npy_path = data_arrays_path / \"totalBodyCOM_frame_XYZ.npy\"\n",
    "skeleton_body_dots_csv_path = data_arrays_path / \"mediapipe_body_3d_xyz.csv\"\n"
   ],
   "metadata": {
    "collapsed": false,
    "pycharm": {
     "name": "#%%\n"
    }
   }
  },
  {
   "cell_type": "code",
   "execution_count": 2,
   "outputs": [],
   "source": [
    "# load the data in\n",
    "\n",
    "com_xyz = np.load(com_xyz_npy_path)\n",
    "skeleton_dataframe = pd.read_csv(skeleton_body_dots_csv_path)"
   ],
   "metadata": {
    "collapsed": false,
    "pycharm": {
     "name": "#%%\n"
    }
   }
  }
 ],
 "metadata": {
  "kernelspec": {
   "display_name": "Python 3",
   "language": "python",
   "name": "python3"
  },
  "language_info": {
   "codemirror_mode": {
    "name": "ipython",
    "version": 2
   },
   "file_extension": ".py",
   "mimetype": "text/x-python",
   "name": "python",
   "nbconvert_exporter": "python",
   "pygments_lexer": "ipython2",
   "version": "2.7.6"
  }
 },
 "nbformat": 4,
 "nbformat_minor": 0
}