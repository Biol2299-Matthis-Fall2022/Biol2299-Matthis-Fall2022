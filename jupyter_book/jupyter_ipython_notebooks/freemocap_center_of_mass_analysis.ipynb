{
 "cells": [
  {
   "cell_type": "markdown",
   "metadata": {
    "id": "4oRgiab9rGEl",
    "pycharm": {
     "name": "#%% md\n"
    }
   },
   "source": [
    "# Center of Mass vs Base of Support analysis\n",
    "\n",
    "This is an iPython Jupyter Notebook to let us look at some of the data we collected in class on 2022-09-26\n"
   ]
  },
  {
   "cell_type": "markdown",
   "metadata": {
    "id": "3I7PDIr5rGEs",
    "pycharm": {
     "name": "#%% md\n"
    }
   },
   "source": [
    "## Install (using `pip` and then import the python packages we'll need)"
   ]
  },
  {
   "cell_type": "code",
   "execution_count": null,
   "metadata": {
    "collapsed": false,
    "jupyter": {
     "outputs_hidden": false
    },
    "pycharm": {
     "name": "#%%\n"
    }
   },
   "outputs": [],
   "source": [
    "!pip install numpy\n",
    "!pip install pandas\n",
    "!pip install matplotlib\n",
    "!pip install rich"
   ]
  },
  {
   "cell_type": "code",
   "execution_count": null,
   "metadata": {
    "collapsed": false,
    "jupyter": {
     "outputs_hidden": false
    },
    "pycharm": {
     "name": "#%%\n"
    }
   },
   "outputs": [],
   "source": [
    "import numpy as np\n",
    "import pandas as pd\n",
    "import matplotlib\n",
    "import matplotlib.pyplot as plt\n",
    "from pathlib import Path\n",
    "# matplotlib.use(\"qt5agg\")\n",
    "# %matplotlib inline\n",
    "# plt.style.use('classic')"
   ]
  },
  {
   "cell_type": "markdown",
   "metadata": {
    "pycharm": {
     "name": "#%% md\n"
    }
   },
   "source": [
    "## Step 0 - Connect to the Google Drive where the data is stored\n"
   ]
  },
  {
   "cell_type": "code",
   "execution_count": null,
   "metadata": {
    "collapsed": false,
    "jupyter": {
     "outputs_hidden": false
    },
    "pycharm": {
     "name": "#%%\n"
    }
   },
   "outputs": [],
   "source": [
    "from google.colab import drive\n",
    "drive.mount('/content/drive')"
   ]
  },
  {
   "cell_type": "markdown",
   "metadata": {
    "pycharm": {
     "name": "#%% md\n"
    }
   },
   "source": [
    "`## Get the paths to the files and data we'll need"
   ]
  },
  {
   "cell_type": "markdown",
   "metadata": {
    "pycharm": {
     "name": "#%% md\n"
    }
   },
   "source": [
    "### Get path to the overall session folder \n",
    "(i.e. the folder full of subject folders)\n",
    "\n",
    "If this part raises and error: \n",
    "1. navigate to the `freemocap_bos_com_standing_data` folder on the left menu\n",
    "2. click the three dots to the right of the folder,\n",
    "3. Select 'Copy Path' \n",
    "4. Replace the stuff inside the \"quotation marks\" in the `freemocap_data_folder_path = \"path_string\"` with the path you have in your clip board (i.e. paste it with `ctrl-v`\n",
    "\n"
   ]
  },
  {
   "cell_type": "code",
   "execution_count": null,
   "metadata": {
    "collapsed": false,
    "jupyter": {
     "outputs_hidden": false
    },
    "pycharm": {
     "name": "#%%\n"
    }
   },
   "outputs": [],
   "source": [
    "# path to the full data folder\n",
    "freemocap_data_folder_path = Path(r\"/content/drive/MyDrive/Biol2299_Fall2022/com_vs_bos_standing_data\")\n"
   ]
  },
  {
   "cell_type": "code",
   "execution_count": null,
   "metadata": {
    "collapsed": false,
    "jupyter": {
     "outputs_hidden": false
    },
    "pycharm": {
     "name": "#%%\n"
    }
   },
   "outputs": [],
   "source": [
    "# choose which subject (session folder) we are going to look at\n",
    "session_id = \"sesh_2022-09-28_15_45_39\""
   ]
  },
  {
   "cell_type": "code",
   "execution_count": null,
   "metadata": {
    "collapsed": false,
    "jupyter": {
     "outputs_hidden": false
    },
    "pycharm": {
     "name": "#%%\n"
    }
   },
   "outputs": [],
   "source": [
    "# build the paths to the specific subfolders we care about\n",
    "session_folder_path = freemocap_data_folder_path / session_id\n",
    "data_arrays_path = session_folder_path/'DataArrays'"
   ]
  },
  {
   "cell_type": "code",
   "execution_count": null,
   "metadata": {
    "collapsed": false,
    "jupyter": {
     "outputs_hidden": false
    },
    "pycharm": {
     "name": "#%%\n"
    }
   },
   "outputs": [],
   "source": [
    "# manually create 'session specific info' dictionary\n",
    "\n",
    "session_specific_information_dictionary =     {\n",
    "    session_id: {\n",
    "    \"no_weight\": {\n",
    "        \"right_foot\": {\n",
    "            \"start_frame\": 2500,\n",
    "             \"end_frame\": 3500\n",
    "}\n",
    "}\n",
    "}\n",
    "}"
   ]
  },
  {
   "cell_type": "code",
   "execution_count": null,
   "metadata": {
    "collapsed": false,
    "jupyter": {
     "outputs_hidden": false
    },
    "pycharm": {
     "name": "#%%\n"
    }
   },
   "outputs": [],
   "source": [
    "#Specific file paths\n",
    "com_xyz_npy_path = data_arrays_path / \"totalBodyCOM_frame_XYZ.npy\"\n",
    "skeleton_body_dots_csv_path = data_arrays_path / \"mediapipe_body_3d_xyz.csv\"\n"
   ]
  },
  {
   "cell_type": "code",
   "execution_count": null,
   "metadata": {
    "collapsed": false,
    "jupyter": {
     "outputs_hidden": false
    },
    "pycharm": {
     "name": "#%%\n"
    }
   },
   "outputs": [],
   "source": [
    "# load the data in\n",
    "\n",
    "com_xyz = np.load(com_xyz_npy_path)\n",
    "skeleton_dataframe = pd.read_csv(skeleton_body_dots_csv_path)"
   ]
  },
  {
   "cell_type": "code",
   "execution_count": null,
   "metadata": {
    "collapsed": false,
    "jupyter": {
     "outputs_hidden": false
    },
    "pycharm": {
     "name": "#%%\n"
    }
   },
   "outputs": [],
   "source": [
    "# pull out the data from the `nose` marker\n",
    "\n",
    "nose_x = skeleton_dataframe[\"nose_x\"]\n",
    "nose_y = skeleton_dataframe[\"nose_y\"]\n",
    "nose_z = skeleton_dataframe[\"nose_z\"]\n",
    "\n",
    "print(f\"nose_x.shape: {nose_x.shape} (that means that there were {nose_x.shape} recorded frames \") #make sure the data is the shape we expect "
   ]
  },
  {
   "cell_type": "code",
   "execution_count": null,
   "metadata": {
    "collapsed": false,
    "jupyter": {
     "outputs_hidden": false
    },
    "pycharm": {
     "name": "#%%\n"
    }
   },
   "outputs": [],
   "source": [
    "# simple plot of `nose_x, y, and z` time series\n",
    "\n",
    "%matplotlib inline\n",
    "\n",
    "fig1 = plt.Figure()\n",
    "fig1.suptitle(\"Nose Timeseries\")\n",
    "ax = fig1.add_subplot()\n",
    "ax.plot(nose_x)\n",
    "ax.plot(nose_y)\n",
    "ax.plot(nose_z)\n",
    "plt.show()\n"
   ]
  },
  {
   "cell_type": "code",
   "execution_count": 7,
   "metadata": {
    "executionInfo": {
     "elapsed": 12,
     "status": "ok",
     "timestamp": 1666210689687,
     "user": {
      "displayName": "Jonathan Matthis",
      "userId": "06614082460177917258"
     },
     "user_tz": 240
    },
    "id": "45vfPbwwt9NQ",
    "pycharm": {
     "name": "#%%\n"
    }
   },
   "outputs": [],
   "source": [
    "# build the paths to the specific subfolders we care about\n",
    "session_folder_path = freemocap_data_folder_path / session_id\n",
    "data_arrays_path = session_folder_path/'DataArrays'"
   ]
  },
  {
   "cell_type": "code",
   "execution_count": 8,
   "metadata": {
    "executionInfo": {
     "elapsed": 12,
     "status": "ok",
     "timestamp": 1666210689688,
     "user": {
      "displayName": "Jonathan Matthis",
      "userId": "06614082460177917258"
     },
     "user_tz": 240
    },
    "id": "Zw2oZhcQuV9O",
    "pycharm": {
     "name": "#%%\n"
    }
   },
   "outputs": [],
   "source": [
    "# manually create 'session specific info' dictionary\n",
    "\n",
    "session_specific_information_dictionary =     {\n",
    "    session_id: {\n",
    "    \"no_weight\": {\n",
    "        \"right_foot\": {\n",
    "            \"start_frame\": 2500,\n",
    "             \"end_frame\": 3500\n",
    "}\n",
    "}\n",
    "}\n",
    "}"
   ]
  },
  {
   "cell_type": "code",
   "execution_count": 9,
   "metadata": {
    "executionInfo": {
     "elapsed": 10,
     "status": "ok",
     "timestamp": 1666210689688,
     "user": {
      "displayName": "Jonathan Matthis",
      "userId": "06614082460177917258"
     },
     "user_tz": 240
    },
    "id": "-5UhnY4HrGE4",
    "pycharm": {
     "name": "#%%\n"
    }
   },
   "outputs": [],
   "source": [
    "#Specific file paths\n",
    "com_xyz_npy_path = data_arrays_path / \"totalBodyCOM_frame_XYZ.npy\"\n",
    "skeleton_body_dots_csv_path = data_arrays_path / \"mediapipe_body_3d_xyz.csv\"\n"
   ]
  },
  {
   "cell_type": "code",
   "execution_count": 10,
   "metadata": {
    "executionInfo": {
     "elapsed": 1325,
     "status": "ok",
     "timestamp": 1666210691003,
     "user": {
      "displayName": "Jonathan Matthis",
      "userId": "06614082460177917258"
     },
     "user_tz": 240
    },
    "id": "PpVaDVRXrGE6",
    "pycharm": {
     "name": "#%%\n"
    }
   },
   "outputs": [],
   "source": [
    "# load the data in\n",
    "\n",
    "com_xyz = np.load(com_xyz_npy_path)\n",
    "skeleton_dataframe = pd.read_csv(skeleton_body_dots_csv_path)"
   ]
  },
  {
   "cell_type": "code",
   "execution_count": 11,
   "metadata": {
    "colab": {
     "base_uri": "https://localhost:8080/"
    },
    "executionInfo": {
     "elapsed": 6,
     "status": "ok",
     "timestamp": 1666210691004,
     "user": {
      "displayName": "Jonathan Matthis",
      "userId": "06614082460177917258"
     },
     "user_tz": 240
    },
    "id": "G2Br5L1_rGE8",
    "outputId": "62d396f9-ae60-4a73-ef49-9ea9371fe3ad",
    "pycharm": {
     "name": "#%%\n"
    }
   },
   "outputs": [
    {
     "name": "stdout",
     "output_type": "stream",
     "text": [
      "nose_x.shape: (6980,) (that means that there were (6980,) recorded frames \n"
     ]
    }
   ],
   "source": [
    "# pull out the data from the `nose` marker\n",
    "\n",
    "nose_x = skeleton_dataframe[\"nose_x\"]\n",
    "nose_y = skeleton_dataframe[\"nose_y\"]\n",
    "nose_z = skeleton_dataframe[\"nose_z\"]\n",
    "\n",
    "print(f\"nose_x.shape: {nose_x.shape} (that means that there were {nose_x.shape} recorded frames \") #make sure the data is the shape we expect "
   ]
  },
  {
   "cell_type": "code",
   "execution_count": 15,
   "metadata": {
    "executionInfo": {
     "elapsed": 9,
     "status": "ok",
     "timestamp": 1666210699715,
     "user": {
      "displayName": "Jonathan Matthis",
      "userId": "06614082460177917258"
     },
     "user_tz": 240
    },
    "id": "3Dl2cjelrGFA",
    "pycharm": {
     "name": "#%%\n"
    }
   },
   "outputs": [],
   "source": [
    "# simple plot of `nose_x, y, and z` time series\n",
    "\n",
    "%matplotlib inline\n",
    "\n",
    "fig1 = plt.Figure()\n",
    "fig1.suptitle(\"Nose Timeseries\")\n",
    "ax = fig1.add_subplot()\n",
    "ax.plot(nose_x)\n",
    "ax.plot(nose_y)\n",
    "ax.plot(nose_z)\n",
    "plt.show()\n"
   ]
  },
  {
   "cell_type": "code",
   "execution_count": 13,
   "metadata": {
    "executionInfo": {
     "elapsed": 4,
     "status": "ok",
     "timestamp": 1666210691146,
     "user": {
      "displayName": "Jonathan Matthis",
      "userId": "06614082460177917258"
     },
     "user_tz": 240
    },
    "id": "yflOughXrGFC",
    "pycharm": {
     "name": "#%%\n"
    }
   },
   "outputs": [],
   "source": [
    "right_toe_x = skeleton_dataframe[\"right_foot_index_x\"]\n",
    "right_toe_y = skeleton_dataframe[\"right_foot_index_y\"]\n",
    "right_toe_z = skeleton_dataframe[\"right_foot_index_z\"]\n",
    "\n",
    "right_heel_x = skeleton_dataframe[\"right_heel_x\"]\n",
    "right_heel_y = skeleton_dataframe[\"right_heel_y\"]\n",
    "right_heel_z = skeleton_dataframe[\"right_heel_z\"]\n",
    "\n",
    "\n",
    "\n",
    "cx = com_xyz[np.arange(2500,3500),0]\n",
    "cy = com_xyz[np.arange(2500,3500),1]\n"
   ]
  },
  {
   "cell_type": "code",
   "execution_count": 14,
   "metadata": {
    "colab": {
     "base_uri": "https://localhost:8080/",
     "height": 265
    },
    "executionInfo": {
     "elapsed": 167,
     "status": "ok",
     "timestamp": 1666210691310,
     "user": {
      "displayName": "Jonathan Matthis",
      "userId": "06614082460177917258"
     },
     "user_tz": 240
    },
    "id": "s1DjSmLCrGFE",
    "outputId": "c5d2e420-7b51-40fc-a6a0-c53e36e5a253",
    "pycharm": {
     "name": "#%%\n"
    }
   },
   "outputs": [
    {
     "data": {
      "image/png": "[encoded data removed]",
      "text/plain": [
       "<Figure size 432x288 with 1 Axes>"
      ]
     },
     "metadata": {
      "needs_background": "light"
     },
     "output_type": "display_data"
    }
   ],
   "source": [
    "fig2 = plt.Figure()\n",
    "# ax = fig2.add_subplot()\n",
    "\n",
    "plt.plot(right_toe_x[2500:3500], right_toe_y[2500:3500], 'r')\n",
    "plt.plot(right_heel_x[2500:3500], right_heel_y[2500:3500], 'b')\n",
    "\n",
    "plt.plot(cx, cy, 'g')\n",
    "\n",
    "plt.show()"
   ]
  },
  {
   "cell_type": "code",
   "execution_count": 14,
   "metadata": {
    "executionInfo": {
     "elapsed": 8,
     "status": "ok",
     "timestamp": 1666210691310,
     "user": {
      "displayName": "Jonathan Matthis",
      "userId": "06614082460177917258"
     },
     "user_tz": 240
    },
    "id": "3CvKK1GirGFG",
    "pycharm": {
     "name": "#%%\n"
    }
   },
   "outputs": [],
   "source": []
  }
 ],
 "metadata": {
  "accelerator": "GPU",
  "colab": {
   "collapsed_sections": [],
   "provenance": [
    {
     "file_id": "https://github.com/Biol2299-Matthis-Fall2022/Biol2299-Matthis-Fall2022/blob/main/jupyter_book/jupyter_ipython_notebooks/freemocap_center_of_mass_analysis.ipynb",
     "timestamp": 1666208431222
    }
   ]
  },
  "kernelspec": {
   "display_name": "Python 3 (ipykernel)",
   "language": "python",
   "name": "python3"
  },
  "language_info": {
   "codemirror_mode": {
    "name": "ipython",
    "version": 3
   },
   "file_extension": ".py",
   "mimetype": "text/x-python",
   "name": "python",
   "nbconvert_exporter": "python",
   "pygments_lexer": "ipython3",
   "version": "3.8.13"
  }
 },
 "nbformat": 4,
 "nbformat_minor": 4
}