{
 "cells": [
  {
   "cell_type": "markdown",
   "metadata": {
    "collapsed": false,
    "pycharm": {
     "name": "#%% md\n"
    }
   },
   "source": [
    "# This is an iPython Jupyter Notebook to let us look at some of the data we collected in class on 2022-09-26\n"
   ]
  },
  {
   "cell_type": "markdown",
   "metadata": {
    "collapsed": false,
    "pycharm": {
     "name": "#%% md\n"
    }
   },
   "source": [
    "## Import the python packages we'll need"
   ]
  },
  {
   "cell_type": "code",
   "execution_count": 6,
   "metadata": {
    "collapsed": false,
    "pycharm": {
     "name": "#%%\n"
    }
   },
   "outputs": [
    {
     "name": "stderr",
     "output_type": "stream",
     "text": [
      "WARNING: You are using pip version 22.0.4; however, version 22.3 is available.\n",
      "You should consider upgrading via the 'C:\\Users\\jonma\\AppData\\Local\\Microsoft\\WindowsApps\\PythonSoftwareFoundation.Python.3.9_qbz5n2kfra8p0\\python.exe -m pip install --upgrade pip' command.\n"
     ]
    },
    {
     "name": "stdout",
     "output_type": "stream",
     "text": [
      "Requirement already satisfied: numpy in c:\\users\\jonma\\appdata\\local\\packages\\pythonsoftwarefoundation.python.3.9_qbz5n2kfra8p0\\localcache\\local-packages\\python39\\site-packages (1.23.3)\n",
      "Requirement already satisfied: pandas in c:\\users\\jonma\\appdata\\local\\packages\\pythonsoftwarefoundation.python.3.9_qbz5n2kfra8p0\\localcache\\local-packages\\python39\\site-packages (1.5.0)\n",
      "Requirement already satisfied: python-dateutil>=2.8.1 in c:\\users\\jonma\\appdata\\local\\packages\\pythonsoftwarefoundation.python.3.9_qbz5n2kfra8p0\\localcache\\local-packages\\python39\\site-packages (from pandas) (2.8.2)\n",
      "Requirement already satisfied: pytz>=2020.1 in c:\\users\\jonma\\appdata\\local\\packages\\pythonsoftwarefoundation.python.3.9_qbz5n2kfra8p0\\localcache\\local-packages\\python39\\site-packages (from pandas) (2022.4)\n",
      "Requirement already satisfied: numpy>=1.20.3 in c:\\users\\jonma\\appdata\\local\\packages\\pythonsoftwarefoundation.python.3.9_qbz5n2kfra8p0\\localcache\\local-packages\\python39\\site-packages (from pandas) (1.23.3)\n",
      "Requirement already satisfied: six>=1.5 in c:\\users\\jonma\\appdata\\local\\packages\\pythonsoftwarefoundation.python.3.9_qbz5n2kfra8p0\\localcache\\local-packages\\python39\\site-packages (from python-dateutil>=2.8.1->pandas) (1.16.0)\n"
     ]
    },
    {
     "name": "stderr",
     "output_type": "stream",
     "text": [
      "WARNING: You are using pip version 22.0.4; however, version 22.3 is available.\n",
      "You should consider upgrading via the 'C:\\Users\\jonma\\AppData\\Local\\Microsoft\\WindowsApps\\PythonSoftwareFoundation.Python.3.9_qbz5n2kfra8p0\\python.exe -m pip install --upgrade pip' command.\n"
     ]
    },
    {
     "name": "stdout",
     "output_type": "stream",
     "text": [
      "Requirement already satisfied: matplotlib in c:\\users\\jonma\\appdata\\local\\packages\\pythonsoftwarefoundation.python.3.9_qbz5n2kfra8p0\\localcache\\local-packages\\python39\\site-packages (3.6.0)\n",
      "Requirement already satisfied: pillow>=6.2.0 in c:\\users\\jonma\\appdata\\local\\packages\\pythonsoftwarefoundation.python.3.9_qbz5n2kfra8p0\\localcache\\local-packages\\python39\\site-packages (from matplotlib) (9.2.0)\n",
      "Requirement already satisfied: cycler>=0.10 in c:\\users\\jonma\\appdata\\local\\packages\\pythonsoftwarefoundation.python.3.9_qbz5n2kfra8p0\\localcache\\local-packages\\python39\\site-packages (from matplotlib) (0.11.0)\n",
      "Requirement already satisfied: kiwisolver>=1.0.1 in c:\\users\\jonma\\appdata\\local\\packages\\pythonsoftwarefoundation.python.3.9_qbz5n2kfra8p0\\localcache\\local-packages\\python39\\site-packages (from matplotlib) (1.4.4)\n",
      "Requirement already satisfied: pyparsing>=2.2.1 in c:\\users\\jonma\\appdata\\local\\packages\\pythonsoftwarefoundation.python.3.9_qbz5n2kfra8p0\\localcache\\local-packages\\python39\\site-packages (from matplotlib) (3.0.9)\n",
      "Requirement already satisfied: contourpy>=1.0.1 in c:\\users\\jonma\\appdata\\local\\packages\\pythonsoftwarefoundation.python.3.9_qbz5n2kfra8p0\\localcache\\local-packages\\python39\\site-packages (from matplotlib) (1.0.5)\n",
      "Requirement already satisfied: packaging>=20.0 in c:\\users\\jonma\\appdata\\local\\packages\\pythonsoftwarefoundation.python.3.9_qbz5n2kfra8p0\\localcache\\local-packages\\python39\\site-packages (from matplotlib) (21.3)\n",
      "Requirement already satisfied: python-dateutil>=2.7 in c:\\users\\jonma\\appdata\\local\\packages\\pythonsoftwarefoundation.python.3.9_qbz5n2kfra8p0\\localcache\\local-packages\\python39\\site-packages (from matplotlib) (2.8.2)\n",
      "Requirement already satisfied: numpy>=1.19 in c:\\users\\jonma\\appdata\\local\\packages\\pythonsoftwarefoundation.python.3.9_qbz5n2kfra8p0\\localcache\\local-packages\\python39\\site-packages (from matplotlib) (1.23.3)\n",
      "Requirement already satisfied: fonttools>=4.22.0 in c:\\users\\jonma\\appdata\\local\\packages\\pythonsoftwarefoundation.python.3.9_qbz5n2kfra8p0\\localcache\\local-packages\\python39\\site-packages (from matplotlib) (4.37.4)\n",
      "Requirement already satisfied: six>=1.5 in c:\\users\\jonma\\appdata\\local\\packages\\pythonsoftwarefoundation.python.3.9_qbz5n2kfra8p0\\localcache\\local-packages\\python39\\site-packages (from python-dateutil>=2.7->matplotlib) (1.16.0)\n"
     ]
    },
    {
     "name": "stderr",
     "output_type": "stream",
     "text": [
      "WARNING: You are using pip version 22.0.4; however, version 22.3 is available.\n",
      "You should consider upgrading via the 'C:\\Users\\jonma\\AppData\\Local\\Microsoft\\WindowsApps\\PythonSoftwareFoundation.Python.3.9_qbz5n2kfra8p0\\python.exe -m pip install --upgrade pip' command.\n"
     ]
    }
   ],
   "source": [
    "print(\"install numpy\")\n",
    "!pip install numpy --quiet\n",
    "print(\"install pandas\")\n",
    "!pip install pandas --quiet\n",
    "print(\"install matplotlib\")\n",
    "!pip install matplotlib --quiet"
   ]
  },
  {
   "cell_type": "code",
   "execution_count": 2,
   "metadata": {
    "collapsed": false,
    "pycharm": {
     "name": "#%%\n"
    }
   },
   "outputs": [],
   "source": [
    "import pandas as pd\n",
    "import matplotlib\n",
    "import matplotlib.pyplot as plt\n",
    "from pathlib import Path\n",
    "import numpy as np\n",
    "\n",
    "%matplotlib inline"
   ]
  },
  {
   "cell_type": "markdown",
   "metadata": {
    "collapsed": false,
    "pycharm": {
     "name": "#%% md\n"
    }
   },
   "source": [
    "## Get the paths to the files and data we'll need"
   ]
  },
  {
   "cell_type": "code",
   "execution_count": 3,
   "metadata": {
    "collapsed": false,
    "pycharm": {
     "name": "#%%\n"
    }
   },
   "outputs": [
    {
     "name": "stdout",
     "output_type": "stream",
     "text": [
      "C:\\Users\\jonma\\Dropbox\\Northeastern\\Courses\\Biol2299\\2022_09_Fall\\com_vs_bos_data\\FreeMocap_Data\\sesh_2022-09-28_15_45_39\n",
      "The path to the data arrays is: C:\\Users\\jonma\\Dropbox\\Northeastern\\Courses\\Biol2299\\2022_09_Fall\\com_vs_bos_data\\FreeMocap_Data\\sesh_2022-09-28_15_45_39\\DataArrays\n"
     ]
    }
   ],
   "source": [
    "# # folders and stuff\n",
    "# from tkinter import *\n",
    "# from tkinter import filedialog\n",
    "\n",
    "# root = Tk()\n",
    "# root.withdraw()\n",
    "\n",
    "# Open a tkinter file dialog to select the session id folder you want to analyze\n",
    "session_folder_path = r\"C:\\Users\\jonma\\Dropbox\\Northeastern\\Courses\\Biol2299\\2022_09_Fall\\com_vs_bos_data\\FreeMocap_Data\\sesh_2022-09-28_15_45_39\"\n",
    "session_folder_path = Path(session_folder_path)\n",
    "print(session_folder_path)\n",
    "data_arrays_path = session_folder_path / 'DataArrays'\n",
    "print(\"The path to the data arrays is:\", data_arrays_path)\n"
   ]
  },
  {
   "cell_type": "code",
   "execution_count": 4,
   "metadata": {
    "collapsed": false,
    "pycharm": {
     "name": "#%%\n"
    }
   },
   "outputs": [],
   "source": [
    "#Specific file paths\n",
    "com_xyz_npy_path = data_arrays_path / \"totalBodyCOM_frame_XYZ.npy\"\n",
    "skeleton_body_dots_csv_path = data_arrays_path / \"mediapipe_body_3d_xyz.csv\"\n"
   ]
  },
  {
   "cell_type": "code",
   "execution_count": null,
   "metadata": {
    "collapsed": false,
    "pycharm": {
     "name": "#%%\n"
    }
   },
   "outputs": [],
   "source": [
    "# load the data in\n",
    "\n",
    "com_xyz = np.load(com_xyz_npy_path)\n",
    "skeleton_dataframe = pd.read_csv(skeleton_body_dots_csv_path)"
   ]
  },
  {
   "cell_type": "code",
   "execution_count": null,
   "metadata": {
    "collapsed": false,
    "pycharm": {
     "name": "#%%\n"
    }
   },
   "outputs": [],
   "source": [
    "# Examples of how to access elements of the data array\n",
    "nose_x = skeleton_dataframe[\"nose_x\"]\n",
    "nose_y = skeleton_dataframe[\"nose_y\"]\n",
    "nose_z = skeleton_dataframe[\"nose_z\"]\n",
    "\n",
    "print(f\"nose_x.shape: {nose_x.shape}\")"
   ]
  },
  {
   "cell_type": "code",
   "execution_count": null,
   "metadata": {
    "pycharm": {
     "name": "#%%\n"
    }
   },
   "outputs": [],
   "source": [
    "# This function plots a time series plot of a given body part\n",
    "def plotXYZOverTime(column1, column2, column3, object, colors):\n",
    "\n",
    "    xdata = skeleton_dataframe[column1]\n",
    "    ydata = skeleton_dataframe[column2]\n",
    "    zdata = skeleton_dataframe[column3]\n",
    "\n",
    "\n",
    "    plt1 = plt.plot(xdata, color=colors[0])\n",
    "    plot2 = plt.plot(ydata, color=colors[1])\n",
    "    plot3 = plt.plot(zdata, color=colors[2])\n",
    "    plt.title(\"Position of \" + object + \" Over Time\")\n",
    "    plt.xlabel(\"Frame Number\")\n",
    "    plt.ylabel(\"Value\")\n",
    "    plt.legend([object + \" X\", object + \" Y\", object+ \"Z\"])\n",
    "    plt.show()"
   ]
  },
  {
   "cell_type": "code",
   "execution_count": null,
   "metadata": {
    "collapsed": false,
    "pycharm": {
     "name": "#%%\n"
    }
   },
   "outputs": [],
   "source": [
    "# To change the color of the lines on the plot, change these three variables\n",
    "colors = [\"orange\", \"green\", \"blue\"]\n",
    "\n",
    "# produces a simple plot of `com_xyz` time series of nose\n",
    "plotXYZOverTime(\"nose_x\", \"nose_y\", \"nose_z\", \"Nose\", colors)\n",
    "\n"
   ]
  },
  {
   "cell_type": "code",
   "execution_count": null,
   "metadata": {
    "collapsed": false,
    "pycharm": {
     "name": "#%%\n"
    }
   },
   "outputs": [],
   "source": [
    "right_toe_x = skeleton_dataframe[\"right_foot_index_x\"]\n",
    "right_toe_y = skeleton_dataframe[\"right_foot_index_y\"]\n",
    "right_toe_z = skeleton_dataframe[\"right_foot_index_z\"]\n",
    "\n",
    "right_heel_x = skeleton_dataframe[\"right_heel_x\"]\n",
    "right_heel_y = skeleton_dataframe[\"right_heel_y\"]\n",
    "right_heel_z = skeleton_dataframe[\"right_heel_z\"]\n",
    "\n",
    "\n",
    "cx = com_xyz[np.arange(2500,3500),0]\n",
    "cy = com_xyz[np.arange(2500,3500),1]\n",
    "\n"
   ]
  },
  {
   "cell_type": "code",
   "execution_count": null,
   "metadata": {
    "collapsed": false,
    "pycharm": {
     "name": "#%%\n"
    }
   },
   "outputs": [],
   "source": [
    "#Change the frame numbers for an area of interest\n",
    "startFrame = 2500\n",
    "endFrame = 3500\n",
    "\n",
    "\n",
    "fig2 = plt.Figure()\n",
    "\n",
    "plt.plot(right_toe_x[startFrame:endFrame], right_toe_y[startFrame:endFrame], 'r')\n",
    "plt.plot(right_heel_x[startFrame:endFrame], right_heel_y[startFrame:endFrame], 'b')\n",
    "plt.plot(cx, cy, 'g')\n",
    "plt.title(\"Foot Position vs. Center of Mass While Standing on One Foot\")\n",
    "plt.xlabel(\"X Position\")\n",
    "plt.ylabel(\"Y Position\")\n",
    "plt.legend([\"Right Toe\", \"Right Heel\", \"Center Of Mass\"])\n",
    "plt.show()"
   ]
  },
  {
   "cell_type": "code",
   "execution_count": null,
   "metadata": {
    "collapsed": false,
    "pycharm": {
     "name": "#%%\n"
    }
   },
   "outputs": [],
   "source": [
    "#This function creates two subplots with the first showing location of foot vs cetner of mass while holding a weight, second without holding weight\n",
    "\n",
    "def plotWithandWithoutWeight(startFrameNoWeight, endFrameNoWeight, startFrameWithWeight, endFrameWithWeight, onefoot=True, foot=\"right\"):\n",
    "    #extract the data from the data frame\n",
    "    right_toe_x = skeleton_dataframe[\"right_foot_index_x\"]\n",
    "    right_toe_y = skeleton_dataframe[\"right_foot_index_y\"]\n",
    "    right_toe_z = skeleton_dataframe[\"right_foot_index_z\"]\n",
    "\n",
    "    right_heel_x = skeleton_dataframe[\"right_heel_x\"]\n",
    "    right_heel_y = skeleton_dataframe[\"right_heel_y\"]\n",
    "    right_heel_z = skeleton_dataframe[\"right_heel_z\"]\n",
    "\n",
    "    left_toe_x = skeleton_dataframe[\"left_foot_index_x\"]\n",
    "    left_toe_y = skeleton_dataframe[\"left_foot_index_y\"]\n",
    "    left_toe_z = skeleton_dataframe[\"left_foot_index_z\"]\n",
    "\n",
    "    left_heel_x = skeleton_dataframe[\"left_heel_x\"]\n",
    "    left_heel_y = skeleton_dataframe[\"left_heel_y\"]\n",
    "    left_heel_z = skeleton_dataframe[\"left_heel_z\"]\n",
    "\n",
    "    cxWeight = com_xyz[np.arange(startFrameWithWeight,endFrameWithWeight),0]\n",
    "    cyWeight = com_xyz[np.arange(startFrameWithWeight,endFrameWithWeight),1]\n",
    "    \n",
    "    cxNoWeight = com_xyz[np.arange(startFrameNoWeight,endFrameNoWeight),0]\n",
    "    cyNoWeight = com_xyz[np.arange(startFrameNoWeight,endFrameNoWeight),1]\n",
    "\n",
    "\n",
    "    #Create the plots\n",
    "    fig, (ax1, ax2) = plt.subplots(nrows=1, ncols=2, constrained_layout=True)\n",
    "    fig.suptitle('Foot Postition vs. Center of Mass', fontsize=16)\n",
    "\n",
    "    if (onefoot==False or (onefoot and foot==\"right\")):\n",
    "        ax2.plot(right_toe_x[startFrameWithWeight:endFrameWithWeight], right_toe_y[startFrameWithWeight:endFrameWithWeight], 'r')\n",
    "        ax2.plot(right_heel_x[startFrameWithWeight:endFrameWithWeight], right_heel_y[startFrameWithWeight:endFrameWithWeight], 'b')\n",
    "        ax1.plot(right_toe_x[startFrameNoWeight:endFrameNoWeight], right_toe_y[startFrameNoWeight:endFrameNoWeight], 'r')\n",
    "        ax1.plot(right_heel_x[startFrameNoWeight:endFrameNoWeight], right_heel_y[startFrameNoWeight:endFrameNoWeight], 'b')\n",
    "    \n",
    "    if (onefoot==False or (onefoot and foot==\"left\")):\n",
    "        ax2.plot(left_toe_x[startFrameWithWeight:endFrameWithWeight], left_toe_y[startFrameWithWeight:endFrameWithWeight], 'orange')\n",
    "        ax2.plot(left_heel_x[startFrameWithWeight:endFrameWithWeight], left_heel_y[startFrameWithWeight:endFrameWithWeight], 'purple')\n",
    "        ax1.plot(left_toe_x[startFrameNoWeight:endFrameNoWeight], left_toe_y[startFrameNoWeight:endFrameNoWeight], 'orange')\n",
    "        ax1.plot(left_heel_x[startFrameNoWeight:endFrameNoWeight], left_heel_y[startFrameNoWeight:endFrameNoWeight], 'purple')\n",
    "    \n",
    "    ax1.plot(cxNoWeight, cyNoWeight, 'g')\n",
    "    ax2.plot(cxWeight, cyWeight, 'g')\n",
    "\n",
    "    ax2.set_title('With Weight', fontsize=14)\n",
    "    ax1.set_title(\"Without Weight\", fontsize=14)\n",
    "\n",
    "    ax1.set_xlabel(xlabel='X Position', fontsize=12)\n",
    "    ax1.set_ylabel('Y Position', fontsize=12)\n",
    "    ax2.set_xlabel(\"X Position\", fontsize=12)\n",
    "    ax1.set_aspect(\"equal\")\n",
    "    ax2.set_aspect(\"equal\")\n",
    "\n",
    "    if(onefoot):\n",
    "        plt.legend([\"Toe\", \"Heel\", \"Center Of Mass\"])\n",
    "    else:\n",
    "        plt.legend([\"Left Toe\", \"Left Heel\", \"Right Toe\", \"Right Heel\", \"Center Of Mass\"])\n",
    "    plt.show()"
   ]
  },
  {
   "cell_type": "code",
   "execution_count": null,
   "metadata": {
    "pycharm": {
     "name": "#%%\n"
    }
   },
   "outputs": [],
   "source": [
    "# Change these to the desired frame numbers for when participants are standing on right foot with/without weight\n",
    "startFrameWithWeight = 2500\n",
    "endFrameWithWeight = 3500\n",
    "startFrameNoWeight = 2500\n",
    "endFrameNoWeight = 3500\n",
    "\n",
    "\n",
    "# Plot weight vs no weight right foot\n",
    "plotWithandWithoutWeight(startFrameNoWeight, endFrameNoWeight, startFrameWithWeight, endFrameWithWeight, onefoot=True, foot=\"right\")"
   ]
  },
  {
   "cell_type": "code",
   "execution_count": null,
   "metadata": {
    "pycharm": {
     "name": "#%%\n"
    }
   },
   "outputs": [],
   "source": [
    "# Change these to the desired frame numbers for when participants are standing on left foot with/without weight\n",
    "startFrameWithWeight = 2500\n",
    "endFrameWithWeight = 3500\n",
    "startFrameNoWeight = 2500\n",
    "endFrameNoWeight = 3500\n",
    "\n",
    "#Plot weight vs no weight left foot\n",
    "plotWithandWithoutWeight(startFrameNoWeight, endFrameNoWeight, startFrameWithWeight, endFrameWithWeight, onefoot=True, foot=\"left\")"
   ]
  },
  {
   "cell_type": "code",
   "execution_count": null,
   "metadata": {
    "pycharm": {
     "name": "#%%\n"
    }
   },
   "outputs": [],
   "source": [
    "# Change these to the desired frame numbers for when participants are standing on both feet with/without weight\n",
    "startFrameWithWeight = 2500\n",
    "endFrameWithWeight = 3500\n",
    "startFrameNoWeight = 2500\n",
    "endFrameNoWeight = 3500\n",
    "\n",
    "#Plot weight vs no weight both\n",
    "plotWithandWithoutWeight(startFrameNoWeight, endFrameNoWeight, startFrameWithWeight, endFrameWithWeight, onefoot=False)"
   ]
  },
  {
   "cell_type": "code",
   "execution_count": null,
   "metadata": {
    "pycharm": {
     "name": "#%%\n"
    }
   },
   "outputs": [],
   "source": [
    "#This function creates two subplots with the first showing location of foot vs cetner of mass while holding a weight, second without holding weight\n",
    "def plotOneVsTwoFeet(startFrameOneFoot, endFrameOneFoot, startFrameTwoFeet, endFrameTwoFeet, colors, weight=False):\n",
    "    #extract the data from the data frame\n",
    "    right_toe_x = skeleton_dataframe[\"right_foot_index_x\"]\n",
    "    right_toe_y = skeleton_dataframe[\"right_foot_index_y\"]\n",
    "    right_toe_z = skeleton_dataframe[\"right_foot_index_z\"]\n",
    "\n",
    "    right_heel_x = skeleton_dataframe[\"right_heel_x\"]\n",
    "    right_heel_y = skeleton_dataframe[\"right_heel_y\"]\n",
    "    right_heel_z = skeleton_dataframe[\"right_heel_z\"]\n",
    "\n",
    "    left_toe_x = skeleton_dataframe[\"left_foot_index_x\"]\n",
    "    left_toe_y = skeleton_dataframe[\"left_foot_index_y\"]\n",
    "    left_toe_z = skeleton_dataframe[\"left_foot_index_z\"]\n",
    "\n",
    "    left_heel_x = skeleton_dataframe[\"left_heel_x\"]\n",
    "    left_heel_y = skeleton_dataframe[\"left_heel_y\"]\n",
    "    left_heel_z = skeleton_dataframe[\"left_heel_z\"]\n",
    "\n",
    "    cxTwoFeet = com_xyz[np.arange(startFrameOneFoot,endFrameOneFoot),0]\n",
    "    cyTwoFeet = com_xyz[np.arange(startFrameOneFoot,endFrameOneFoot),1]\n",
    "    \n",
    "    cxOneFoot = com_xyz[np.arange(startFrameTwoFeet,endFrameTwoFeet),0]\n",
    "    cyOneFoot = com_xyz[np.arange(startFrameTwoFeet,endFrameTwoFeet),1]\n",
    "\n",
    "\n",
    "    #Create the plots\n",
    "    fig, (ax1, ax2) = plt.subplots(nrows=1, ncols=2, constrained_layout=True)\n",
    "    fig.suptitle('Foot Position vs. Center of Mass', fontsize=16)\n",
    "\n",
    "    #Plot one foot\n",
    "    ax1.plot(right_toe_x[startFrameOneFoot:endFrameOneFoot], right_toe_y[startFrameOneFoot:endFrameOneFoot], colors[1])\n",
    "    ax1.plot(right_heel_x[startFrameOneFoot:endFrameOneFoot], right_heel_y[startFrameOneFoot:endFrameOneFoot], colors[2])\n",
    "    ax1.plot(cxOneFoot, cyOneFoot, colors[0])\n",
    "    \n",
    "    #Plot both feet\n",
    "    ax2.plot(left_toe_x[startFrameTwoFeet:endFrameTwoFeet], left_toe_y[startFrameTwoFeet:endFrameTwoFeet], colors[1])\n",
    "    ax2.plot(left_heel_x[startFrameTwoFeet:endFrameTwoFeet], left_heel_y[startFrameTwoFeet:endFrameTwoFeet], colors[2])\n",
    "    ax2.plot(cxTwoFeet, cyTwoFeet, colors[0])\n",
    "    ax2.plot(right_toe_x[startFrameTwoFeet:endFrameTwoFeet], right_toe_y[startFrameTwoFeet:endFrameTwoFeet], colors[1])\n",
    "    ax2.plot(right_heel_x[startFrameTwoFeet:endFrameTwoFeet], right_heel_y[startFrameTwoFeet:endFrameTwoFeet], colors[2])\n",
    "   \n",
    "\n",
    "\n",
    "    ax2.set_title('Both Feet', fontsize=14)\n",
    "    ax1.set_title(\"One Foot\", fontsize=14)\n",
    "\n",
    "    ax1.set_xlabel(xlabel='X Position', fontsize=12)\n",
    "    ax1.set_ylabel('Y Position', fontsize=12)\n",
    "    ax2.set_xlabel(\"X Position\", fontsize=12)\n",
    "\n",
    "\n",
    "    plt.legend([\"Toe\", \"Heel\", \"Center Of Mass\"])\n",
    " \n",
    "    plt.show()"
   ]
  },
  {
   "cell_type": "code",
   "execution_count": null,
   "metadata": {
    "pycharm": {
     "name": "#%%\n"
    }
   },
   "outputs": [],
   "source": [
    "# Plots one vs two feet (can also use this to plot one vs two feet while holding a weight, just change the start frames accordingly)\n",
    "\n",
    "startFrameOneFoot = 0\n",
    "endFrameOneFoot = 1000\n",
    "startFrameTwoFeet = 0\n",
    "endFrameTwoFeet= 1000\n",
    "\n",
    "#Change colors if desired\n",
    "colors= [\"red\", \"orange\", \"blue\"]\n",
    "\n",
    "plotOneVsTwoFeet(startFrameOneFoot, endFrameOneFoot, startFrameTwoFeet, endFrameTwoFeet, colors)"
   ]
  }
 ],
 "metadata": {
  "kernelspec": {
   "display_name": "Python 3.7.13 ('fmc-env')",
   "language": "python",
   "name": "python3"
  },
  "language_info": {
   "codemirror_mode": {
    "name": "ipython",
    "version": 3
   },
   "file_extension": ".py",
   "mimetype": "text/x-python",
   "name": "python",
   "nbconvert_exporter": "python",
   "pygments_lexer": "ipython3",
   "version": "3.7.13"
  },
  "vscode": {
   "interpreter": {
    "hash": "f30f7fab325bfbdbf6da556620f578d0324c93c7e1c80c67ca6ef2f5f791e428"
   }
  }
 },
 "nbformat": 4,
 "nbformat_minor": 0
}
